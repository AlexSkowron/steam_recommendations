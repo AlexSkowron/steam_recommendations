{
 "cells": [
  {
   "cell_type": "markdown",
   "metadata": {},
   "source": [
    "## Content-based filtering (CB)"
   ]
  },
  {
   "cell_type": "markdown",
   "metadata": {},
   "source": [
    "see [this github repo](https://github.com/TeddyWang0202/recommendation_system)\n",
    "\n",
    "Note: this dataset has less than 50% overlapping games with the steam_200k dataset making results not comparable. May need to manually scrape data for games in steam_200k.\n",
    "\n",
    "Idea: Could put all descriptive cell contents into a bag of word models"
   ]
  },
  {
   "cell_type": "code",
   "execution_count": null,
   "metadata": {},
   "outputs": [],
   "source": [
    "# load content data\n",
    "\n",
    "# read steam_200k.csv into a dataframe\n",
    "df_content = pd.read_csv('./data/steam.csv')\n",
    "\n",
    "# only focus on game tags for content-based recommendation\n",
    "from mlxtend.preprocessing import TransactionEncoder\n",
    "\n",
    "data_content = df_content['steamspy_tags'].str.split(';') # expand tags to transaction columns\n",
    "te = TransactionEncoder()\n",
    "data_content = te.fit_transform(data_content)\n",
    "data_content = pd.DataFrame(data_content, columns = te.columns_, index = df_content['name'])"
   ]
  },
  {
   "cell_type": "code",
   "execution_count": null,
   "metadata": {},
   "outputs": [],
   "source": [
    "# compute binary user-user similarity matrix\n",
    "from sklearn.metrics.pairwise import cosine_similarity\n",
    "\n",
    "content_similarity_matrix = pd.DataFrame(cosine_similarity(data_content), index = data_content.index, columns = data_content.index) # similarity based on cosine\n",
    "\n",
    "#cosine similarity\n",
    "#np.dot(data_bin_train.iloc[0],data_bin_train.iloc[1]) / (np.sqrt(np.sum(np.square(data_bin_train.iloc[0]))) * np.sqrt(np.sum(np.square(data_bin_train.iloc[1]))))\n",
    "\n",
    "#similarity_matrix = data_bin_train.T.corr() # similarity based on Perason corr. Note: need nan instead of 0 in matrix"
   ]
  },
  {
   "cell_type": "code",
   "execution_count": null,
   "metadata": {},
   "outputs": [
    {
     "name": "stdout",
     "output_type": "stream",
     "text": [
      "name\n",
      "Risen                                                         1.000000\n",
      "Risen 3 - Titan Lords                                         1.000000\n",
      "Two Worlds Epic Edition                                       0.666667\n",
      "Sid Meier's Pirates!                                          0.666667\n",
      "Two Worlds II HD                                              0.666667\n",
      "Mount & Blade                                                 0.666667\n",
      "Fallout 3                                                     0.666667\n",
      "The Elder Scrolls III: Morrowind® Game of the Year Edition    0.666667\n",
      "The Elder Scrolls IV: Oblivion® Game of the Year Edition      0.666667\n",
      "Fallout 3: Game of the Year Edition                           0.666667\n",
      "Fallout: New Vegas                                            0.666667\n",
      "Name: Risen, dtype: float64\n"
     ]
    }
   ],
   "source": [
    "# Lets get the top 11 similar games\n",
    "print(content_similarity_matrix[\"Risen\"].nlargest(11))"
   ]
  }
 ],
 "metadata": {
  "language_info": {
   "name": "python"
  }
 },
 "nbformat": 4,
 "nbformat_minor": 2
}
