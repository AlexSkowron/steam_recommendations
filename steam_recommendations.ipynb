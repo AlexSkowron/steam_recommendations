{
 "cells": [
  {
   "cell_type": "markdown",
   "metadata": {},
   "source": [
    "# Steam Recommendations Project\n",
    "\n",
    "Project to build a recommendation engine for steam games."
   ]
  },
  {
   "cell_type": "markdown",
   "metadata": {},
   "source": [
    "### Retrieve data\n",
    "\n",
    "Use Steam Web API to retrieve public user data."
   ]
  },
  {
   "cell_type": "code",
   "execution_count": 2,
   "metadata": {},
   "outputs": [],
   "source": [
    "#import libraries\n",
    "import random as rnd\n",
    "import numpy as np\n",
    "import pandas as pd\n",
    "import requests\n",
    "\n",
    "rnd.seed(8524)"
   ]
  },
  {
   "cell_type": "code",
   "execution_count": 30,
   "metadata": {},
   "outputs": [
    {
     "data": {
      "text/html": [
       "<div>\n",
       "<style scoped>\n",
       "    .dataframe tbody tr th:only-of-type {\n",
       "        vertical-align: middle;\n",
       "    }\n",
       "\n",
       "    .dataframe tbody tr th {\n",
       "        vertical-align: top;\n",
       "    }\n",
       "\n",
       "    .dataframe thead th {\n",
       "        text-align: right;\n",
       "    }\n",
       "</style>\n",
       "<table border=\"1\" class=\"dataframe\">\n",
       "  <thead>\n",
       "    <tr style=\"text-align: right;\">\n",
       "      <th></th>\n",
       "      <th>appid</th>\n",
       "      <th>name</th>\n",
       "    </tr>\n",
       "  </thead>\n",
       "  <tbody>\n",
       "    <tr>\n",
       "      <th>0</th>\n",
       "      <td>216938</td>\n",
       "      <td>Pieterw test app76 ( 216938 )</td>\n",
       "    </tr>\n",
       "    <tr>\n",
       "      <th>1</th>\n",
       "      <td>660010</td>\n",
       "      <td>test2</td>\n",
       "    </tr>\n",
       "    <tr>\n",
       "      <th>2</th>\n",
       "      <td>660130</td>\n",
       "      <td>test3</td>\n",
       "    </tr>\n",
       "    <tr>\n",
       "      <th>3</th>\n",
       "      <td>1118314</td>\n",
       "      <td></td>\n",
       "    </tr>\n",
       "    <tr>\n",
       "      <th>4</th>\n",
       "      <td>1275822</td>\n",
       "      <td></td>\n",
       "    </tr>\n",
       "    <tr>\n",
       "      <th>...</th>\n",
       "      <td>...</td>\n",
       "      <td>...</td>\n",
       "    </tr>\n",
       "    <tr>\n",
       "      <th>213236</th>\n",
       "      <td>801210</td>\n",
       "      <td>Spellsword Cards: Demontide</td>\n",
       "    </tr>\n",
       "    <tr>\n",
       "      <th>213237</th>\n",
       "      <td>2747470</td>\n",
       "      <td>Swing Into Zero-G</td>\n",
       "    </tr>\n",
       "    <tr>\n",
       "      <th>213238</th>\n",
       "      <td>2339000</td>\n",
       "      <td>Portabellows</td>\n",
       "    </tr>\n",
       "    <tr>\n",
       "      <th>213239</th>\n",
       "      <td>2990430</td>\n",
       "      <td>Green Hell - Anniversary Edition Pack</td>\n",
       "    </tr>\n",
       "    <tr>\n",
       "      <th>213240</th>\n",
       "      <td>2400960</td>\n",
       "      <td>SolForge Fusion</td>\n",
       "    </tr>\n",
       "  </tbody>\n",
       "</table>\n",
       "<p>213241 rows × 2 columns</p>\n",
       "</div>"
      ],
      "text/plain": [
       "          appid                                   name\n",
       "0        216938          Pieterw test app76 ( 216938 )\n",
       "1        660010                                  test2\n",
       "2        660130                                  test3\n",
       "3       1118314                                       \n",
       "4       1275822                                       \n",
       "...         ...                                    ...\n",
       "213236   801210            Spellsword Cards: Demontide\n",
       "213237  2747470                      Swing Into Zero-G\n",
       "213238  2339000                           Portabellows\n",
       "213239  2990430  Green Hell - Anniversary Edition Pack\n",
       "213240  2400960                        SolForge Fusion\n",
       "\n",
       "[213241 rows x 2 columns]"
      ]
     },
     "execution_count": 30,
     "metadata": {},
     "output_type": "execute_result"
    }
   ],
   "source": [
    "# get all steam app ids\n",
    "response = requests.get(\"https://api.steampowered.com/ISteamApps/GetAppList/v2/\")\n",
    "\n",
    "steam_apps=pd.DataFrame(response.json()[\"applist\"][\"apps\"])"
   ]
  },
  {
   "cell_type": "code",
   "execution_count": null,
   "metadata": {},
   "outputs": [],
   "source": [
    "# get app store info (including reviews) - remove apps that don't have any reviews\n",
    "# todo"
   ]
  },
  {
   "cell_type": "code",
   "execution_count": 3,
   "metadata": {},
   "outputs": [],
   "source": [
    "# get user info (games owned, playtimes) for users who reviewed at least 1 game\n",
    "# todo\n",
    "\n",
    "user_info = list()\n",
    "\n",
    "for x in range(1):\n",
    "\n",
    "    id_request_list = list()\n",
    "\n",
    "    for x in range(100):\n",
    "        id = rnd.randrange(1,1000000)\n",
    "        id64 = id*2 + 76561197960265728 + 1\n",
    "        id_request_list.append(str(id64))\n",
    "\n",
    "    id_requests = \",\".join(id_request_list) \n",
    "    \n",
    "    with open(\"steam_api_key.txt\", 'r') as file:\n",
    "        steam_key = file.read()\n",
    "\n",
    "    parameters = {\"key\": steam_key, \"steamids\": id_requests} # parameters for API requests\n",
    "\n",
    "    response = requests.get(\"http://api.steampowered.com/ISteamUser/GetPlayerSummaries/v0002\",params=parameters)\n",
    "\n",
    "    r=response.json()"
   ]
  }
 ],
 "metadata": {
  "kernelspec": {
   "display_name": "Python 3",
   "language": "python",
   "name": "python3"
  },
  "language_info": {
   "codemirror_mode": {
    "name": "ipython",
    "version": 3
   },
   "file_extension": ".py",
   "mimetype": "text/x-python",
   "name": "python",
   "nbconvert_exporter": "python",
   "pygments_lexer": "ipython3",
   "version": "3.11.3"
  }
 },
 "nbformat": 4,
 "nbformat_minor": 2
}
