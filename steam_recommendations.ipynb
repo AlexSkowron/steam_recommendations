{
 "cells": [
  {
   "cell_type": "markdown",
   "metadata": {},
   "source": [
    "# Steam Recommendations Project\n",
    "\n",
    "Project to build a recommendation engine for steam games."
   ]
  },
  {
   "cell_type": "markdown",
   "metadata": {},
   "source": [
    "### Retrieve data\n",
    "\n",
    "Use Steam Web API to retrieve public user data."
   ]
  },
  {
   "cell_type": "code",
   "execution_count": 1,
   "metadata": {},
   "outputs": [],
   "source": [
    "#import libraries\n",
    "import random as rnd\n",
    "import numpy as np\n",
    "import pandas as pd\n",
    "import requests\n",
    "\n",
    "rnd.seed(8524)"
   ]
  },
  {
   "cell_type": "code",
   "execution_count": 92,
   "metadata": {},
   "outputs": [],
   "source": [
    "# get all steam app ids\n",
    "response = requests.get(\"https://api.steampowered.com/ISteamApps/GetAppList/v2/\")\n",
    "\n",
    "steam_apps=pd.DataFrame(response.json()[\"applist\"][\"apps\"])"
   ]
  },
  {
   "cell_type": "code",
   "execution_count": null,
   "metadata": {},
   "outputs": [],
   "source": [
    "# get app general info\n",
    "# todo"
   ]
  },
  {
   "cell_type": "code",
   "execution_count": 91,
   "metadata": {},
   "outputs": [],
   "source": [
    "# get app review info\n",
    "\n",
    "parameters = {'json': 1, \n",
    "              'filter': 'recent', \n",
    "              'language': 'all',\n",
    "              'cursor': '*',\n",
    "              'review_type': 'all',\n",
    "              'purchase_type': 'all',\n",
    "              'num_per_page': '100',\n",
    "              'filter_offtopic_activity': 0\n",
    "              }\n",
    "\n",
    "review_summaries = list()\n",
    "\n",
    "def prep_reviews_df(resp,appid):\n",
    "    # resp is a dict of api response\n",
    "\n",
    "    author_df = pd.DataFrame([item[\"author\"] for item in resp])\n",
    "\n",
    "    reviews_df=pd.DataFrame(resp)\n",
    "    reviews_df=reviews_df.drop(columns=['author'])\n",
    "    reviews_df=reviews_df.join(author_df)\n",
    "\n",
    "    reviews_df[\"appid\"]=[appid]*len(reviews_df)\n",
    "\n",
    "    return reviews_df\n",
    "\n",
    "for this_app in steam_apps[\"appid\"]: # for testing: ['2717080']\n",
    "\n",
    "    while 1:\n",
    "        # get document from API (API only allows retrieval of 20 reviews at a time)\n",
    "        response = requests.get(\"https://store.steampowered.com/appreviews/\" + str(this_app), params=parameters)\n",
    "        response = response.json() # convert to dict\n",
    "\n",
    "        if response[\"query_summary\"][\"num_reviews\"] == 0:\n",
    "            break # exit when no more reviews to retrieve for title\n",
    "\n",
    "        # update reviews dfs\n",
    "        if parameters['cursor'] == '*': # first iteration\n",
    "            review_summaries = pd.DataFrame(response[\"query_summary\"],index=[0])\n",
    "            review_summaries=review_summaries.drop(columns=['num_reviews'])\n",
    "            review_summaries[\"appid\"] = this_app\n",
    "\n",
    "            reviews_all = prep_reviews_df(response[\"reviews\"],this_app)\n",
    "        else:\n",
    "            reviews_all = pd.concat([reviews_all, prep_reviews_df(response[\"reviews\"],this_app)])\n",
    "\n",
    "        # update cursor for next API request\n",
    "        parameters[\"cursor\"] = response[\"cursor\"].encode()"
   ]
  },
  {
   "cell_type": "code",
   "execution_count": null,
   "metadata": {},
   "outputs": [],
   "source": [
    "# load steam api key\n",
    "with open(\"steam_api_key.txt\", 'r') as file:\n",
    "    steam_key = file.read()\n",
    "\n",
    "# get id list\n",
    "id_list = reviews_all[\"steamid\"].unique()"
   ]
  },
  {
   "cell_type": "code",
   "execution_count": 118,
   "metadata": {},
   "outputs": [],
   "source": [
    "# get user summaries (only those who left at least one review for one app) - this is not really useful\n",
    "\n",
    "# load steam api key\n",
    "with open(\"steam_api_key.txt\", 'r') as file:\n",
    "    steam_key = file.read()\n",
    "\n",
    "id_list = reviews_all[\"steamid\"].unique()\n",
    "\n",
    "for x in np.arange(0,len(id_list),100): # can only request 100 ids at a time\n",
    "    \n",
    "    # get ids\n",
    "    if x+100 < len(id_list):\n",
    "        id_request = id_list[x:x+100]\n",
    "    else:\n",
    "        id_request = id_list[x:]\n",
    "\n",
    "    id_request_str = \",\".join(id_request) # format id list for api call\n",
    "\n",
    "    parameters = {\"key\": steam_key, \"steamids\": id_request_str}\n",
    "\n",
    "    response = requests.get(\"http://api.steampowered.com/ISteamUser/GetPlayerSummaries/v0002\",params=parameters)\n",
    "    response = response.json()\n",
    "\n",
    "    # update reviews dfs\n",
    "    if x == 0: # first iteration\n",
    "        users_all = pd.DataFrame(response[\"response\"][\"players\"])\n",
    "    else:\n",
    "        users_all = pd.concat([users_all, pd.DataFrame(response[\"response\"][\"players\"])])\n",
    "\n",
    "users_all.reset_index(drop=True,inplace=True)"
   ]
  },
  {
   "cell_type": "markdown",
   "metadata": {},
   "source": [
    "Note for generating random ids (see steam doc):\n",
    "\n",
    "        id = rnd.randrange(1,1000000)\n",
    "        id64 = id*2 + 76561197960265728 + 1"
   ]
  },
  {
   "cell_type": "code",
   "execution_count": 125,
   "metadata": {},
   "outputs": [
    {
     "ename": "KeyError",
     "evalue": "'players'",
     "output_type": "error",
     "traceback": [
      "\u001b[0;31m---------------------------------------------------------------------------\u001b[0m",
      "\u001b[0;31mKeyError\u001b[0m                                  Traceback (most recent call last)",
      "Cell \u001b[0;32mIn[125], line 15\u001b[0m\n\u001b[1;32m     13\u001b[0m         users_all \u001b[38;5;241m=\u001b[39m pd\u001b[38;5;241m.\u001b[39mDataFrame(response[\u001b[38;5;124m\"\u001b[39m\u001b[38;5;124mresponse\u001b[39m\u001b[38;5;124m\"\u001b[39m][\u001b[38;5;124m\"\u001b[39m\u001b[38;5;124mplayers\u001b[39m\u001b[38;5;124m\"\u001b[39m])\n\u001b[1;32m     14\u001b[0m     \u001b[38;5;28;01melse\u001b[39;00m:\n\u001b[0;32m---> 15\u001b[0m         users_all \u001b[38;5;241m=\u001b[39m pd\u001b[38;5;241m.\u001b[39mconcat([users_all, pd\u001b[38;5;241m.\u001b[39mDataFrame(\u001b[43mresponse\u001b[49m\u001b[43m[\u001b[49m\u001b[38;5;124;43m\"\u001b[39;49m\u001b[38;5;124;43mresponse\u001b[39;49m\u001b[38;5;124;43m\"\u001b[39;49m\u001b[43m]\u001b[49m\u001b[43m[\u001b[49m\u001b[38;5;124;43m\"\u001b[39;49m\u001b[38;5;124;43mplayers\u001b[39;49m\u001b[38;5;124;43m\"\u001b[39;49m\u001b[43m]\u001b[49m)])\n\u001b[1;32m     17\u001b[0m users_all\u001b[38;5;241m.\u001b[39mreset_index(drop\u001b[38;5;241m=\u001b[39m\u001b[38;5;28;01mTrue\u001b[39;00m,inplace\u001b[38;5;241m=\u001b[39m\u001b[38;5;28;01mTrue\u001b[39;00m)\n",
      "\u001b[0;31mKeyError\u001b[0m: 'players'"
     ]
    }
   ],
   "source": [
    "# get user games owned\n",
    "# todo testing\n",
    "\n",
    "for id in ['76561197960435530']:  #id_list:\n",
    "\n",
    "    parameters = {\"key\": steam_key, \"steamid\": id}\n",
    "\n",
    "    response = requests.get(\"http://api.steampowered.com/IPlayerService/GetOwnedGames/v0001\",params=parameters)\n",
    "    response = response.json()\n",
    "\n",
    "    # update reviews dfs\n",
    "    if id == id_list[0]: # first iteration\n",
    "        users_all = pd.DataFrame(response[\"response\"][\"players\"])\n",
    "    else:\n",
    "        users_all = pd.concat([users_all, pd.DataFrame(response[\"response\"][\"players\"])])\n",
    "\n",
    "users_all.reset_index(drop=True,inplace=True)"
   ]
  }
 ],
 "metadata": {
  "kernelspec": {
   "display_name": "Python 3",
   "language": "python",
   "name": "python3"
  },
  "language_info": {
   "codemirror_mode": {
    "name": "ipython",
    "version": 3
   },
   "file_extension": ".py",
   "mimetype": "text/x-python",
   "name": "python",
   "nbconvert_exporter": "python",
   "pygments_lexer": "ipython3",
   "version": "3.11.3"
  }
 },
 "nbformat": 4,
 "nbformat_minor": 2
}
