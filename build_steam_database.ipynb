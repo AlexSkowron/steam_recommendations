{
 "cells": [
  {
   "cell_type": "markdown",
   "metadata": {},
   "source": [
    "# Steam database\n",
    "\n",
    "Build database by scraping app and user info using the steam web api."
   ]
  },
  {
   "cell_type": "code",
   "execution_count": 1,
   "metadata": {},
   "outputs": [],
   "source": [
    "#import libraries\n",
    "import random as rnd\n",
    "import numpy as np\n",
    "import pandas as pd\n",
    "import requests\n",
    "import pickle\n",
    "import time\n",
    "\n",
    "rnd.seed(8524)"
   ]
  },
  {
   "cell_type": "code",
   "execution_count": 2,
   "metadata": {},
   "outputs": [
    {
     "data": {
      "text/plain": [
       "(213616, 2)"
      ]
     },
     "execution_count": 2,
     "metadata": {},
     "output_type": "execute_result"
    }
   ],
   "source": [
    "# get all steam app ids\n",
    "response = requests.get(\"https://api.steampowered.com/ISteamApps/GetAppList/v2/\")\n",
    "\n",
    "steam_apps = pd.DataFrame(response.json()[\"applist\"][\"apps\"])\n",
    "steam_apps[\"appid\"]=steam_apps[\"appid\"].astype(str)\n",
    "\n",
    "steam_apps.shape"
   ]
  },
  {
   "cell_type": "code",
   "execution_count": 3,
   "metadata": {},
   "outputs": [
    {
     "data": {
      "text/plain": [
       "(213616, 2)"
      ]
     },
     "execution_count": 3,
     "metadata": {},
     "output_type": "execute_result"
    }
   ],
   "source": [
    "#steam_apps = steam_apps.drop(list(range(36))) # appear to be invalid (missing or test)\n",
    "# todo: check that this works as intended\n",
    "steam_apps.drop_duplicates([\"appid\"],inplace=True) # drop duplicate app ids\n",
    "steam_apps.reset_index(drop=True,inplace=True)\n",
    "\n",
    "steam_apps.shape"
   ]
  },
  {
   "cell_type": "code",
   "execution_count": 6,
   "metadata": {},
   "outputs": [],
   "source": [
    "# load steam api key\n",
    "# note: limited to 100k calls per day for steam web api\n",
    "\n",
    "with open(\"steam_api_key.txt\", 'r') as file:\n",
    "    steam_key = file.read()"
   ]
  },
  {
   "cell_type": "code",
   "execution_count": null,
   "metadata": {},
   "outputs": [],
   "source": [
    "# get app general info\n",
    "# todo: check if game already in database and collect missing apps\n",
    "\n",
    "if not 'steam_app_info' in globals():\n",
    "    \n",
    "    filehandler = open('data/steam_app_info.obj', 'rb') \n",
    "    steam_app_info = pickle.load(filehandler)\n",
    "    \n",
    "    #steam_app_info = {} # output: dict\n",
    "\n",
    "batch_count =  # 3799"
   ]
  },
  {
   "cell_type": "code",
   "execution_count": 4,
   "metadata": {},
   "outputs": [],
   "source": [
    "filehandler = open('data/steam_app_info.obj', 'rb') \n",
    "steam_app_info = pickle.load(filehandler)"
   ]
  },
  {
   "cell_type": "code",
   "execution_count": 17,
   "metadata": {},
   "outputs": [
    {
     "data": {
      "text/plain": [
       "{'1245620': {'success': True,\n",
       "  'data': {'price_overview': {'currency': 'EUR',\n",
       "    'initial': 5999,\n",
       "    'final': 5999,\n",
       "    'discount_percent': 0,\n",
       "    'initial_formatted': '',\n",
       "    'final_formatted': '59,99€'}}},\n",
       " '2959660': {'success': True, 'data': []}}"
      ]
     },
     "execution_count": 17,
     "metadata": {},
     "output_type": "execute_result"
    }
   ],
   "source": [
    "parameters = {\"format\": 'json', \"key\": steam_key, \"appids\": '1245620,2959660', \"filters\": 'price_overview'} # can only request one at a time\n",
    "\n",
    "response = requests.get(\"http://store.steampowered.com/api/appdetails\",params=parameters)\n",
    "response = response.json()\n",
    "response"
   ]
  },
  {
   "cell_type": "code",
   "execution_count": 44,
   "metadata": {},
   "outputs": [
    {
     "data": {
      "text/plain": [
       "3798"
      ]
     },
     "execution_count": 44,
     "metadata": {},
     "output_type": "execute_result"
    }
   ],
   "source": [
    "batch_count = 3798"
   ]
  },
  {
   "cell_type": "code",
   "execution_count": 41,
   "metadata": {},
   "outputs": [
    {
     "ename": "KeyboardInterrupt",
     "evalue": "",
     "output_type": "error",
     "traceback": [
      "\u001b[0;31m---------------------------------------------------------------------------\u001b[0m",
      "\u001b[0;31mKeyboardInterrupt\u001b[0m                         Traceback (most recent call last)",
      "Cell \u001b[0;32mIn[41], line 7\u001b[0m\n\u001b[1;32m      5\u001b[0m \u001b[38;5;66;03m# wait till next call after each batch\u001b[39;00m\n\u001b[1;32m      6\u001b[0m \u001b[38;5;28;01mif\u001b[39;00m \u001b[38;5;129;01mnot\u001b[39;00m \u001b[38;5;28mbool\u001b[39m(batch_count \u001b[38;5;241m%\u001b[39m \u001b[38;5;241m200\u001b[39m):\n\u001b[0;32m----> 7\u001b[0m     \u001b[43mtime\u001b[49m\u001b[38;5;241;43m.\u001b[39;49m\u001b[43msleep\u001b[49m\u001b[43m(\u001b[49m\u001b[38;5;241;43m180\u001b[39;49m\u001b[43m)\u001b[49m\n\u001b[1;32m      9\u001b[0m parameters \u001b[38;5;241m=\u001b[39m {\u001b[38;5;124m\"\u001b[39m\u001b[38;5;124mformat\u001b[39m\u001b[38;5;124m\"\u001b[39m: \u001b[38;5;124m'\u001b[39m\u001b[38;5;124mjson\u001b[39m\u001b[38;5;124m'\u001b[39m, \u001b[38;5;124m\"\u001b[39m\u001b[38;5;124mkey\u001b[39m\u001b[38;5;124m\"\u001b[39m: steam_key, \u001b[38;5;124m\"\u001b[39m\u001b[38;5;124mappids\u001b[39m\u001b[38;5;124m\"\u001b[39m: app} \u001b[38;5;66;03m# can only request one at a time\u001b[39;00m\n\u001b[1;32m     11\u001b[0m response \u001b[38;5;241m=\u001b[39m requests\u001b[38;5;241m.\u001b[39mget(\u001b[38;5;124m\"\u001b[39m\u001b[38;5;124mhttp://store.steampowered.com/api/appdetails\u001b[39m\u001b[38;5;124m\"\u001b[39m,params\u001b[38;5;241m=\u001b[39mparameters)\n",
      "\u001b[0;31mKeyboardInterrupt\u001b[0m: "
     ]
    }
   ],
   "source": [
    "for app in steam_apps[\"appid\"].iloc[(batch_count-1):]: #for testing: ['1245620']\n",
    "\n",
    "    batch_count += 1\n",
    "\n",
    "    # wait till next call after each batch. Limited to 200 calls per 3 min\n",
    "    if not bool(batch_count % 200):\n",
    "        time.sleep(180)\n",
    "\n",
    "    parameters = {\"format\": 'json', \"key\": steam_key, \"appids\": app} # can only request one at a time\n",
    "\n",
    "    response = requests.get(\"http://store.steampowered.com/api/appdetails\",params=parameters)\n",
    "    response = response.json()\n",
    "\n",
    "    if response[app][\"success\"] == True:\n",
    "        steam_app_info[app] = response[app][\"data\"]\n",
    "    else:\n",
    "        print(str(batch_count) + \": NO data retrieved for app \" + app)\n",
    "        continue\n",
    "\n",
    "    # save/update pickled data file after each api call\n",
    "    filehandler = open('data/steam_app_info.obj','wb')\n",
    "    pickle.dump(steam_app_info, filehandler)\n",
    "\n",
    "    print(str(batch_count) + \": data retrieved for app \" + app)"
   ]
  },
  {
   "cell_type": "code",
   "execution_count": null,
   "metadata": {},
   "outputs": [],
   "source": [
    "# get app review info\n",
    "# todo: limit to games with app info retrieved and more than 40k reviews (influential games)\n",
    "\n",
    "parameters = {'json': 1, \n",
    "              'filter': 'recent', \n",
    "              'language': 'all',\n",
    "              'cursor': '*',\n",
    "              'review_type': 'all',\n",
    "              'purchase_type': 'all',\n",
    "              'num_per_page': '100',\n",
    "              'filter_offtopic_activity': 0\n",
    "              }\n",
    "\n",
    "review_summaries = list()\n",
    "\n",
    "def prep_reviews_df(resp,appid):\n",
    "    # resp is a dict of api response\n",
    "\n",
    "    author_df = pd.DataFrame([item[\"author\"] for item in resp])\n",
    "\n",
    "    reviews_df=pd.DataFrame(resp)\n",
    "    reviews_df=reviews_df.drop(columns=['author'])\n",
    "    reviews_df=reviews_df.join(author_df)\n",
    "\n",
    "    reviews_df[\"appid\"]=[appid]*len(reviews_df)\n",
    "\n",
    "    return reviews_df\n",
    "\n",
    "for this_app in steam_apps[\"appid\"]: #steam_apps[\"appid\"]: # for testing: ['2717080']:\n",
    "\n",
    "    while 1:\n",
    "        # get document from API (API only allows retrieval of 20 reviews at a time)\n",
    "        response = requests.get(\"https://store.steampowered.com/appreviews/\" + str(this_app), params=parameters)\n",
    "        response = response.json() # convert to dict\n",
    "\n",
    "        if response[\"query_summary\"][\"num_reviews\"] == 0:\n",
    "            break # exit when no more reviews to retrieve for title\n",
    "\n",
    "        # update reviews dfs\n",
    "        if parameters['cursor'] == '*': # first iteration\n",
    "            review_summaries = pd.DataFrame(response[\"query_summary\"],index=[0])\n",
    "            review_summaries=review_summaries.drop(columns=['num_reviews'])\n",
    "            review_summaries[\"appid\"] = this_app\n",
    "\n",
    "            reviews_all = prep_reviews_df(response[\"reviews\"],this_app)\n",
    "        else:\n",
    "            reviews_all = pd.concat([reviews_all, prep_reviews_df(response[\"reviews\"],this_app)])\n",
    "\n",
    "        # update cursor for next API request\n",
    "        parameters[\"cursor\"] = response[\"cursor\"].encode()"
   ]
  },
  {
   "cell_type": "code",
   "execution_count": null,
   "metadata": {},
   "outputs": [],
   "source": [
    "# get id list\n",
    "id_list = reviews_all[\"steamid\"].unique()"
   ]
  },
  {
   "cell_type": "code",
   "execution_count": null,
   "metadata": {},
   "outputs": [],
   "source": [
    "# get user summaries (only those who left at least one review for one app) - this is not really useful except maybe country code\n",
    "\n",
    "users_all = pd.DataFrame()\n",
    "\n",
    "for x in np.arange(0,len(id_list),100): # can only request 100 ids at a time\n",
    "    \n",
    "    # get ids\n",
    "    if x+100 < len(id_list):\n",
    "        id_request = id_list[x:x+100]\n",
    "    else:\n",
    "        id_request = id_list[x:]\n",
    "\n",
    "    id_request_str = \",\".join(id_request) # format id list for api call\n",
    "\n",
    "    parameters = {\"key\": steam_key, \"steamids\": id_request_str}\n",
    "\n",
    "    response = requests.get(\"http://api.steampowered.com/ISteamUser/GetPlayerSummaries/v0002\",params=parameters)\n",
    "    response = response.json()\n",
    "\n",
    "    # update reviews dfs\n",
    "    if not users_all.empty: # first iteration\n",
    "        users_all = pd.DataFrame(response[\"response\"][\"players\"])\n",
    "    else:\n",
    "        users_all = pd.concat([users_all, pd.DataFrame(response[\"response\"][\"players\"])])\n",
    "\n",
    "users_all.reset_index(drop=True,inplace=True)"
   ]
  },
  {
   "cell_type": "markdown",
   "metadata": {},
   "source": [
    "Note for generating random ids (see steam doc):\n",
    "\n",
    "    id = rnd.randrange(1,1000000)\n",
    "    id64 = id*2 + 76561197960265728 + 1"
   ]
  },
  {
   "cell_type": "code",
   "execution_count": null,
   "metadata": {},
   "outputs": [],
   "source": [
    "# get user games owned\n",
    "\n",
    "user_games_count = pd.DataFrame() # note: this count is different from the info from the review api request and what is listed on the steam community profile. Possibly because some apps are not games (may need to filter)\n",
    "user_games_all = pd.DataFrame()\n",
    "\n",
    "for id in id_list:  #id_list: # for testing: ['76561198110169699']:\n",
    "\n",
    "    parameters = {\"key\": steam_key, \"steamid\": id, \"include_played_free_games\": True}\n",
    "\n",
    "    response = requests.get(\"http://api.steampowered.com/IPlayerService/GetOwnedGames/v0001\",params=parameters)\n",
    "    response = response.json()\n",
    "\n",
    "    if response[\"response\"]: # check if info could be retrieved (public profile)\n",
    "        games_count_df = pd.DataFrame({\"steamid\": id, \"game_count\": response[\"response\"][\"game_count\"]}, index=[0])\n",
    "        \n",
    "        games_df = pd.DataFrame(response[\"response\"][\"games\"])\n",
    "        games_df[\"steamid\"] = [id]*len(games_df)\n",
    "    else:\n",
    "        continue\n",
    "\n",
    "    # update games dfs\n",
    "    if not user_games_all.empty:\n",
    "        user_games_count = games_count_df\n",
    "        user_games_all = games_df\n",
    "    else:\n",
    "        user_games_count = pd.concat([user_games_count, games_count_df])\n",
    "        user_games_all = pd.concat([user_games_all, games_df])\n",
    "\n",
    "user_games_count.reset_index(drop=True,inplace=True)\n",
    "user_games_all.reset_index(drop=True,inplace=True)"
   ]
  },
  {
   "cell_type": "markdown",
   "metadata": {},
   "source": [
    "Optional other info that could be useful:\n",
    "* player achievements (hassle to get from web api since every game needs to be requested)\n",
    "* player number of friends"
   ]
  }
 ],
 "metadata": {
  "kernelspec": {
   "display_name": "Python 3",
   "language": "python",
   "name": "python3"
  },
  "language_info": {
   "codemirror_mode": {
    "name": "ipython",
    "version": 3
   },
   "file_extension": ".py",
   "mimetype": "text/x-python",
   "name": "python",
   "nbconvert_exporter": "python",
   "pygments_lexer": "ipython3",
   "version": "3.11.3"
  }
 },
 "nbformat": 4,
 "nbformat_minor": 2
}
