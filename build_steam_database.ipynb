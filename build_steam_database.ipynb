{
 "cells": [
  {
   "cell_type": "markdown",
   "metadata": {},
   "source": [
    "# Steam database\n",
    "\n",
    "Build database by scraping app and user info using the steam web api."
   ]
  },
  {
   "cell_type": "code",
   "execution_count": 1,
   "metadata": {},
   "outputs": [],
   "source": [
    "#import libraries\n",
    "import random as rnd\n",
    "import numpy as np\n",
    "import pandas as pd\n",
    "import requests\n",
    "\n",
    "rnd.seed(8524)"
   ]
  },
  {
   "cell_type": "code",
   "execution_count": 2,
   "metadata": {},
   "outputs": [],
   "source": [
    "# get all steam app ids\n",
    "response = requests.get(\"https://api.steampowered.com/ISteamApps/GetAppList/v2/\")\n",
    "\n",
    "steam_apps=pd.DataFrame(response.json()[\"applist\"][\"apps\"])"
   ]
  },
  {
   "cell_type": "code",
   "execution_count": 3,
   "metadata": {},
   "outputs": [],
   "source": [
    "# load steam api key\n",
    "with open(\"steam_api_key.txt\", 'r') as file:\n",
    "    steam_key = file.read()"
   ]
  },
  {
   "cell_type": "code",
   "execution_count": 14,
   "metadata": {},
   "outputs": [],
   "source": [
    "# get app general info\n",
    "\n",
    "steam_app_info = {} # output: dict\n",
    "\n",
    "for app in steam_apps:  #steam_apps: #for testing: ['1245620']\n",
    "\n",
    "    parameters = {\"format\": 'json', \"key\": steam_key, \"appids\": app} # can nly request one at a time\n",
    "\n",
    "    response = requests.get(\"http://store.steampowered.com/api/appdetails\",params=parameters)\n",
    "    response = response.json()\n",
    "\n",
    "    steam_app_info[app] = response[app][\"data\"]"
   ]
  },
  {
   "cell_type": "code",
   "execution_count": 6,
   "metadata": {},
   "outputs": [],
   "source": [
    "# get app review info\n",
    "\n",
    "parameters = {'json': 1, \n",
    "              'filter': 'recent', \n",
    "              'language': 'all',\n",
    "              'cursor': '*',\n",
    "              'review_type': 'all',\n",
    "              'purchase_type': 'all',\n",
    "              'num_per_page': '100',\n",
    "              'filter_offtopic_activity': 0\n",
    "              }\n",
    "\n",
    "review_summaries = list()\n",
    "\n",
    "def prep_reviews_df(resp,appid):\n",
    "    # resp is a dict of api response\n",
    "\n",
    "    author_df = pd.DataFrame([item[\"author\"] for item in resp])\n",
    "\n",
    "    reviews_df=pd.DataFrame(resp)\n",
    "    reviews_df=reviews_df.drop(columns=['author'])\n",
    "    reviews_df=reviews_df.join(author_df)\n",
    "\n",
    "    reviews_df[\"appid\"]=[appid]*len(reviews_df)\n",
    "\n",
    "    return reviews_df\n",
    "\n",
    "for this_app in steam_apps[\"appid\"]: #steam_apps[\"appid\"]: # for testing: ['2717080']:\n",
    "\n",
    "    while 1:\n",
    "        # get document from API (API only allows retrieval of 20 reviews at a time)\n",
    "        response = requests.get(\"https://store.steampowered.com/appreviews/\" + str(this_app), params=parameters)\n",
    "        response = response.json() # convert to dict\n",
    "\n",
    "        if response[\"query_summary\"][\"num_reviews\"] == 0:\n",
    "            break # exit when no more reviews to retrieve for title\n",
    "\n",
    "        # update reviews dfs\n",
    "        if parameters['cursor'] == '*': # first iteration\n",
    "            review_summaries = pd.DataFrame(response[\"query_summary\"],index=[0])\n",
    "            review_summaries=review_summaries.drop(columns=['num_reviews'])\n",
    "            review_summaries[\"appid\"] = this_app\n",
    "\n",
    "            reviews_all = prep_reviews_df(response[\"reviews\"],this_app)\n",
    "        else:\n",
    "            reviews_all = pd.concat([reviews_all, prep_reviews_df(response[\"reviews\"],this_app)])\n",
    "\n",
    "        # update cursor for next API request\n",
    "        parameters[\"cursor\"] = response[\"cursor\"].encode()"
   ]
  },
  {
   "cell_type": "code",
   "execution_count": 7,
   "metadata": {},
   "outputs": [],
   "source": [
    "# get id list\n",
    "id_list = reviews_all[\"steamid\"].unique()"
   ]
  },
  {
   "cell_type": "code",
   "execution_count": 38,
   "metadata": {},
   "outputs": [],
   "source": [
    "# get user summaries (only those who left at least one review for one app) - this is not really useful except maybe country code\n",
    "\n",
    "users_all = pd.DataFrame()\n",
    "\n",
    "for x in np.arange(0,len(id_list),100): # can only request 100 ids at a time\n",
    "    \n",
    "    # get ids\n",
    "    if x+100 < len(id_list):\n",
    "        id_request = id_list[x:x+100]\n",
    "    else:\n",
    "        id_request = id_list[x:]\n",
    "\n",
    "    id_request_str = \",\".join(id_request) # format id list for api call\n",
    "\n",
    "    parameters = {\"key\": steam_key, \"steamids\": id_request_str}\n",
    "\n",
    "    response = requests.get(\"http://api.steampowered.com/ISteamUser/GetPlayerSummaries/v0002\",params=parameters)\n",
    "    response = response.json()\n",
    "\n",
    "    # update reviews dfs\n",
    "    if not users_all.empty: # first iteration\n",
    "        users_all = pd.DataFrame(response[\"response\"][\"players\"])\n",
    "    else:\n",
    "        users_all = pd.concat([users_all, pd.DataFrame(response[\"response\"][\"players\"])])\n",
    "\n",
    "users_all.reset_index(drop=True,inplace=True)"
   ]
  },
  {
   "cell_type": "markdown",
   "metadata": {},
   "source": [
    "Note for generating random ids (see steam doc):\n",
    "\n",
    "    id = rnd.randrange(1,1000000)\n",
    "    id64 = id*2 + 76561197960265728 + 1"
   ]
  },
  {
   "cell_type": "code",
   "execution_count": 31,
   "metadata": {},
   "outputs": [],
   "source": [
    "# get user games owned\n",
    "\n",
    "user_games_count = pd.DataFrame() # note: this count is different from the info from the review api request and what is listed on the steam community profile. Possibly because some apps are not games (may need to filter)\n",
    "user_games_all = pd.DataFrame()\n",
    "\n",
    "for id in id_list:  #id_list: # for testing: ['76561198110169699']:\n",
    "\n",
    "    parameters = {\"key\": steam_key, \"steamid\": id, \"include_played_free_games\": True}\n",
    "\n",
    "    response = requests.get(\"http://api.steampowered.com/IPlayerService/GetOwnedGames/v0001\",params=parameters)\n",
    "    response = response.json()\n",
    "\n",
    "    if response[\"response\"]: # check if info could be retrieved (public profile)\n",
    "        games_count_df = pd.DataFrame({\"steamid\": id, \"game_count\": response[\"response\"][\"game_count\"]}, index=[0])\n",
    "        \n",
    "        games_df = pd.DataFrame(response[\"response\"][\"games\"])\n",
    "        games_df[\"steamid\"] = [id]*len(games_df)\n",
    "    else:\n",
    "        continue\n",
    "\n",
    "    # update games dfs\n",
    "    if not user_games_all.empty:\n",
    "        user_games_count = games_count_df\n",
    "        user_games_all = games_df\n",
    "    else:\n",
    "        user_games_count = pd.concat([user_games_count, games_count_df])\n",
    "        user_games_all = pd.concat([user_games_all, games_df])\n",
    "\n",
    "user_games_count.reset_index(drop=True,inplace=True)\n",
    "user_games_all.reset_index(drop=True,inplace=True)"
   ]
  },
  {
   "cell_type": "markdown",
   "metadata": {},
   "source": [
    "Optional other info that could be useful:\n",
    "* player achievements (hassle to get from web api since every game needs to be requested)\n",
    "* player number of friends"
   ]
  }
 ],
 "metadata": {
  "kernelspec": {
   "display_name": "Python 3",
   "language": "python",
   "name": "python3"
  },
  "language_info": {
   "codemirror_mode": {
    "name": "ipython",
    "version": 3
   },
   "file_extension": ".py",
   "mimetype": "text/x-python",
   "name": "python",
   "nbconvert_exporter": "python",
   "pygments_lexer": "ipython3",
   "version": "3.11.3"
  }
 },
 "nbformat": 4,
 "nbformat_minor": 2
}
